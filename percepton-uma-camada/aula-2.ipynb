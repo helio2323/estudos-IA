{
 "cells": [
  {
   "cell_type": "code",
   "execution_count": 1,
   "metadata": {},
   "outputs": [],
   "source": [
    "import numpy as np\n",
    "\n",
    "entradas = np.array([[0,0], [0,1], [1,0], [1,1]])\n",
    "saidas = np.array([[0], [0], [0], [1]])\n",
    "pesos = np.array([0.0, 0.0])\n",
    "taxaAprendizagem = 0.1\n",
    "\n",
    "def stepFuncion(soma):\n",
    "    if soma >= 1:\n",
    "        return 1\n",
    "    return 0\n",
    "\n",
    "def calculaSaida(registro):\n",
    "    s = registro.dot(pesos)\n",
    "    return stepFuncion(s)\n",
    "\n",
    "def treinar():\n",
    "    erroTotal = 1\n",
    "    while (erroTotal != 0):\n",
    "        for i in range(len(saidas)):\n",
    "            saidaCalculada = calculaSaida(np.array(entradas[i]))\n",
    "\n",
    "            erro = abs(saidas[i] - saidaCalculada)\n",
    "            erroTotal += erro\n",
    "            for j in range(len(pesos)):\n",
    "                pesos[j] = pesos[j] + (taxaAprendizagem * erro * entradas[i][j] * erro)\n",
    "                print('Peso atualizados: ' + str(pesos[j]))\n",
    "        print('Total de erros:' + str(erroTotal))"
   ]
  },
  {
   "cell_type": "code",
   "execution_count": 3,
   "metadata": {},
   "outputs": [],
   "source": [
    "treinar()"
   ]
  }
 ],
 "metadata": {
  "kernelspec": {
   "display_name": "venv",
   "language": "python",
   "name": "python3"
  },
  "language_info": {
   "codemirror_mode": {
    "name": "ipython",
    "version": 3
   },
   "file_extension": ".py",
   "mimetype": "text/x-python",
   "name": "python",
   "nbconvert_exporter": "python",
   "pygments_lexer": "ipython3",
   "version": "3.12.3"
  }
 },
 "nbformat": 4,
 "nbformat_minor": 2
}
