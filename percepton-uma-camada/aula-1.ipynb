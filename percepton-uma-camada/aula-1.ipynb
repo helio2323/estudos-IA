{
 "cells": [
  {
   "cell_type": "code",
   "execution_count": 18,
   "metadata": {},
   "outputs": [],
   "source": [
    "entradas = [-1, 7, 5]\n",
    "pesos = [0.8, 0.1, 0]\n",
    "\n",
    "def soma(e, p):\n",
    "    s = 0\n",
    "    for i in range(3):\n",
    "        s += e[i] * p[i]\n",
    "\n",
    "    return s\n",
    "\n",
    "def stepFuncion(soma):\n",
    "    if soma >= 1:\n",
    "        return 1\n",
    "    return 0\n"
   ]
  },
  {
   "cell_type": "code",
   "execution_count": 11,
   "metadata": {},
   "outputs": [
    {
     "data": {
      "text/plain": [
       "0"
      ]
     },
     "execution_count": 11,
     "metadata": {},
     "output_type": "execute_result"
    }
   ],
   "source": [
    "s = soma(entradas, pesos)\n",
    "\n",
    "r = stepFuncion(s)\n",
    "\n",
    "r"
   ]
  },
  {
   "cell_type": "code",
   "execution_count": 15,
   "metadata": {},
   "outputs": [],
   "source": [
    "import numpy as np\n",
    "\n",
    "def soma_numpy(e, p):\n",
    "    return e.dot(p)"
   ]
  },
  {
   "cell_type": "code",
   "execution_count": null,
   "metadata": {},
   "outputs": [],
   "source": [
    "s = soma_numpy(entradas, pesos)\n",
    "\n",
    "r = stepFuncion(s)\n",
    "\n",
    "r"
   ]
  }
 ],
 "metadata": {
  "kernelspec": {
   "display_name": "venv",
   "language": "python",
   "name": "python3"
  },
  "language_info": {
   "codemirror_mode": {
    "name": "ipython",
    "version": 3
   },
   "file_extension": ".py",
   "mimetype": "text/x-python",
   "name": "python",
   "nbconvert_exporter": "python",
   "pygments_lexer": "ipython3",
   "version": "3.12.3"
  }
 },
 "nbformat": 4,
 "nbformat_minor": 2
}
